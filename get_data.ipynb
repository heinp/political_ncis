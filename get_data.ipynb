{
 "cells": [
  {
   "cell_type": "code",
   "execution_count": 1,
   "metadata": {},
   "outputs": [],
   "source": [
    "from bs4 import BeautifulSoup\n",
    "import urllib\n",
    "import pandas as pd\n",
    "import re\n",
    "from pycountry import countries"
   ]
  },
  {
   "cell_type": "code",
   "execution_count": 2,
   "metadata": {},
   "outputs": [],
   "source": [
    "htmls = []\n",
    "for i in range(1,18):\n",
    "    resp = urllib.request.urlopen(f\"https://en.wikipedia.org/wiki/NCIS_(season_{i})\")\n",
    "    htmls.append(resp.read().decode())"
   ]
  },
  {
   "cell_type": "code",
   "execution_count": 3,
   "metadata": {},
   "outputs": [],
   "source": [
    "h = htmls[1]\n",
    "s = BeautifulSoup(h)"
   ]
  },
  {
   "cell_type": "code",
   "execution_count": 4,
   "metadata": {},
   "outputs": [],
   "source": [
    "t = s.find(\"table\", class_=\"wikiepisodetable\")\n",
    "trs = t.tbody.findAll(\"tr\")"
   ]
  },
  {
   "cell_type": "code",
   "execution_count": 5,
   "metadata": {},
   "outputs": [
    {
     "data": {
      "text/plain": [
       "[<th id=\"ep24\" rowspan=\"1\" scope=\"row\" style=\"text-align:center\">24</th>,\n",
       " <td style=\"text-align:center\">1</td>,\n",
       " <td class=\"summary\" style=\"text-align:left\">\"See No Evil\"</td>,\n",
       " <td style=\"text-align:center\"><a href=\"/wiki/Thomas_J._Wright\" title=\"Thomas J. Wright\">Thomas J. Wright</a></td>,\n",
       " <td style=\"text-align:center\">Chris Crowe</td>,\n",
       " <td style=\"text-align:center\">September 28, 2004<span style=\"display:none\"> (<span class=\"bday dtstart published updated\">2004-09-28</span>)</span></td>,\n",
       " <td id=\"pc201\" style=\"text-align:center\">201</td>,\n",
       " <td style=\"text-align:center\">14.33<sup class=\"reference\" id=\"cite_ref-1\"><a href=\"#cite_note-1\">[1]</a></sup></td>]"
      ]
     },
     "execution_count": 5,
     "metadata": {},
     "output_type": "execute_result"
    }
   ],
   "source": [
    "tr = trs[1]\n",
    "list(tr.children)"
   ]
  },
  {
   "cell_type": "code",
   "execution_count": 6,
   "metadata": {},
   "outputs": [],
   "source": [
    "head = [\"no\", \"season\", \"no_in_season\", \"title\", \"air_date\", \"us_viewers\", \"text\"]\n",
    "data = {h:[] for h in head}\n",
    "for i, html in enumerate(htmls):\n",
    "    soup = BeautifulSoup(html)\n",
    "    season = i+1\n",
    "    \n",
    "    table = soup.find(\"table\", class_=\"wikiepisodetable\")\n",
    "    trs = table.tbody.findAll(\"tr\")\n",
    "    \n",
    "    it = iter([[\"\".join(td.stripped_strings) for td in tr] for tr in trs[1:]])\n",
    "    for tr in it:\n",
    "        data[\"season\"].append(season)\n",
    "        if len(tr) == 7 and season==1:\n",
    "            data[\"no\"].append(int(tr[0]))\n",
    "        elif len(tr) == 8 or season==17:\n",
    "            data[\"no\"].append(int(tr.pop(0)))            \n",
    "        else:\n",
    "            raise Exception(f\"Not expected: len(tr) == {len(tr)} in season {season}\")\n",
    "        \n",
    "        data[\"no_in_season\"].append(int(tr[0]))\n",
    "        data[\"title\"].append(tr[1])\n",
    "        try:\n",
    "            date = re.match(r\".*\\((.*)\\)\", tr[4]).groups()[0]\n",
    "        except AttributeError:\n",
    "            print(f\"weird date in season {season}, no. {tr[0]}: {tr[4]}\")\n",
    "            date = tr[4]\n",
    "        data[\"air_date\"].append(date)\n",
    "        viewers = float(re.match(r\"(.*)\\[.*\\]\", tr[-1]).groups()[0])\n",
    "        data[\"us_viewers\"].append(viewers)\n",
    "        data[\"text\"].append(next(it)[0])"
   ]
  },
  {
   "cell_type": "code",
   "execution_count": 7,
   "metadata": {},
   "outputs": [
    {
     "data": {
      "text/html": [
       "<div>\n",
       "<style scoped>\n",
       "    .dataframe tbody tr th:only-of-type {\n",
       "        vertical-align: middle;\n",
       "    }\n",
       "\n",
       "    .dataframe tbody tr th {\n",
       "        vertical-align: top;\n",
       "    }\n",
       "\n",
       "    .dataframe thead th {\n",
       "        text-align: right;\n",
       "    }\n",
       "</style>\n",
       "<table border=\"1\" class=\"dataframe\">\n",
       "  <thead>\n",
       "    <tr style=\"text-align: right;\">\n",
       "      <th></th>\n",
       "      <th>no</th>\n",
       "      <th>season</th>\n",
       "      <th>no_in_season</th>\n",
       "      <th>title</th>\n",
       "      <th>air_date</th>\n",
       "      <th>us_viewers</th>\n",
       "      <th>text</th>\n",
       "    </tr>\n",
       "  </thead>\n",
       "  <tbody>\n",
       "    <tr>\n",
       "      <th>0</th>\n",
       "      <td>1</td>\n",
       "      <td>1</td>\n",
       "      <td>1</td>\n",
       "      <td>\"Yankee White\"</td>\n",
       "      <td>2003-09-23</td>\n",
       "      <td>13.04</td>\n",
       "      <td>While onAir Force One, a Navy commander, Ray T...</td>\n",
       "    </tr>\n",
       "    <tr>\n",
       "      <th>1</th>\n",
       "      <td>2</td>\n",
       "      <td>1</td>\n",
       "      <td>2</td>\n",
       "      <td>\"Hung Out to Dry\"</td>\n",
       "      <td>2003-09-30</td>\n",
       "      <td>12.08</td>\n",
       "      <td>A Marine (Brian Patrick Wade) dies during a ni...</td>\n",
       "    </tr>\n",
       "    <tr>\n",
       "      <th>2</th>\n",
       "      <td>3</td>\n",
       "      <td>1</td>\n",
       "      <td>3</td>\n",
       "      <td>\"Seadog\"</td>\n",
       "      <td>2003-10-07</td>\n",
       "      <td>11.26</td>\n",
       "      <td>When a driver-less boat and several bodies, in...</td>\n",
       "    </tr>\n",
       "    <tr>\n",
       "      <th>3</th>\n",
       "      <td>4</td>\n",
       "      <td>1</td>\n",
       "      <td>4</td>\n",
       "      <td>\"The Immortals\"</td>\n",
       "      <td>2003-10-14</td>\n",
       "      <td>11.70</td>\n",
       "      <td>The discovery of a drowned sailor in dress whi...</td>\n",
       "    </tr>\n",
       "    <tr>\n",
       "      <th>4</th>\n",
       "      <td>5</td>\n",
       "      <td>1</td>\n",
       "      <td>5</td>\n",
       "      <td>\"The Curse\"</td>\n",
       "      <td>2003-10-28</td>\n",
       "      <td>13.50</td>\n",
       "      <td>Gibbs and the team are called in when a mummif...</td>\n",
       "    </tr>\n",
       "  </tbody>\n",
       "</table>\n",
       "</div>"
      ],
      "text/plain": [
       "   no  season  no_in_season              title   air_date  us_viewers  \\\n",
       "0   1       1             1     \"Yankee White\" 2003-09-23       13.04   \n",
       "1   2       1             2  \"Hung Out to Dry\" 2003-09-30       12.08   \n",
       "2   3       1             3           \"Seadog\" 2003-10-07       11.26   \n",
       "3   4       1             4    \"The Immortals\" 2003-10-14       11.70   \n",
       "4   5       1             5        \"The Curse\" 2003-10-28       13.50   \n",
       "\n",
       "                                                text  \n",
       "0  While onAir Force One, a Navy commander, Ray T...  \n",
       "1  A Marine (Brian Patrick Wade) dies during a ni...  \n",
       "2  When a driver-less boat and several bodies, in...  \n",
       "3  The discovery of a drowned sailor in dress whi...  \n",
       "4  Gibbs and the team are called in when a mummif...  "
      ]
     },
     "execution_count": 7,
     "metadata": {},
     "output_type": "execute_result"
    }
   ],
   "source": [
    "df = pd.DataFrame(data, columns=head)\n",
    "df[\"air_date\"] = [pd.Timestamp(d) for d in df[\"air_date\"]]\n",
    "df.head()"
   ]
  },
  {
   "cell_type": "code",
   "execution_count": 8,
   "metadata": {},
   "outputs": [
    {
     "data": {
      "text/plain": [
       "no                       int64\n",
       "season                   int64\n",
       "no_in_season             int64\n",
       "title                   object\n",
       "air_date        datetime64[ns]\n",
       "us_viewers             float64\n",
       "text                    object\n",
       "dtype: object"
      ]
     },
     "execution_count": 8,
     "metadata": {},
     "output_type": "execute_result"
    }
   ],
   "source": [
    "df.dtypes"
   ]
  },
  {
   "cell_type": "code",
   "execution_count": 9,
   "metadata": {},
   "outputs": [],
   "source": [
    "df.to_pickle(\"data.pkl\")"
   ]
  }
 ],
 "metadata": {
  "kernelspec": {
   "display_name": "Python 3",
   "language": "python",
   "name": "python3"
  },
  "language_info": {
   "codemirror_mode": {
    "name": "ipython",
    "version": 3
   },
   "file_extension": ".py",
   "mimetype": "text/x-python",
   "name": "python",
   "nbconvert_exporter": "python",
   "pygments_lexer": "ipython3",
   "version": "3.8.6"
  }
 },
 "nbformat": 4,
 "nbformat_minor": 4
}
