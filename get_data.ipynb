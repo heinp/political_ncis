{
 "cells": [
  {
   "cell_type": "code",
   "execution_count": 2,
   "metadata": {},
   "outputs": [],
   "source": [
    "from bs4 import BeautifulSoup\n",
    "import urllib\n",
    "\n",
    "import pandas as pd\n",
    "\n",
    "import re\n",
    "\n",
    "from pycountry import countries\n",
    "import glob\n",
    "\n",
    "from pysubparser import parser\n",
    "from pysubparser.cleaners import ascii, formatting"
   ]
  },
  {
   "cell_type": "markdown",
   "metadata": {},
   "source": [
    "# Data from Wikipedia"
   ]
  },
  {
   "cell_type": "code",
   "execution_count": 2,
   "metadata": {},
   "outputs": [],
   "source": [
    "# Download the html from Wikipedia for the first 17 seasons\n",
    "htmls = []\n",
    "for i in range(1,18):\n",
    "    resp = urllib.request.urlopen(f\"https://en.wikipedia.org/wiki/NCIS_(season_{i})\")\n",
    "    htmls.append(resp.read().decode())"
   ]
  },
  {
   "cell_type": "code",
   "execution_count": 6,
   "metadata": {},
   "outputs": [],
   "source": [
    "# prepare data structure\n",
    "head = [\"no\", \"season\", \"no_in_season\", \"title\", \"air_date\", \"us_viewers\", \"summary\"]\n",
    "data = {h:[] for h in head}\n",
    "\n",
    "# parse all the Wiki pages\n",
    "for i, html in enumerate(htmls):\n",
    "    soup = BeautifulSoup(html)\n",
    "    season = i+1\n",
    "    \n",
    "    # get the table where the data is\n",
    "    table = soup.find(\"table\", class_=\"wikiepisodetable\")\n",
    "    trs = table.tbody.findAll(\"tr\")\n",
    "    \n",
    "    # parse the data from the table\n",
    "    # iterator is used to look at two rows at the same time\n",
    "    it = iter([[\"\".join(td.stripped_strings) for td in tr] for tr in trs[1:]])\n",
    "    for tr in it:\n",
    "        # check for the known different lengths\n",
    "        data[\"season\"].append(season)\n",
    "        if len(tr) == 7 and season==1:\n",
    "            data[\"no\"].append(int(tr[0]))  # use \"no. in season\" twice\n",
    "        elif len(tr) == 8 or season==17:\n",
    "            data[\"no\"].append(int(tr.pop(0)))  # use \"no.\" only once and remove         \n",
    "        else:\n",
    "            # if the data is differently structured for any unexpected season\n",
    "            raise Exception(f\"Not expected: len(tr) == {len(tr)} in season {season}\")\n",
    "        \n",
    "        # going through the cells, parsing the data in the expected data types\n",
    "        data[\"no_in_season\"].append(int(tr[0]))\n",
    "        data[\"title\"].append(tr[1].strip('\"'))\n",
    "        try:\n",
    "            date = re.match(r\".*\\((.*)\\)\", tr[4]).groups()[0]\n",
    "        except AttributeError:\n",
    "            print(f\"weird date in season {season}, no. {tr[0]}: {tr[4]}\")\n",
    "            date = tr[4]\n",
    "        data[\"air_date\"].append(date)\n",
    "        viewers = float(re.match(r\"(.*)\\[.*\\]\", tr[-1]).groups()[0])\n",
    "        data[\"us_viewers\"].append(viewers)\n",
    "        data[\"summary\"].append(next(it)[0])  # get \"text\" from next row"
   ]
  },
  {
   "cell_type": "code",
   "execution_count": 7,
   "metadata": {},
   "outputs": [
    {
     "data": {
      "text/html": [
       "<div>\n",
       "<style scoped>\n",
       "    .dataframe tbody tr th:only-of-type {\n",
       "        vertical-align: middle;\n",
       "    }\n",
       "\n",
       "    .dataframe tbody tr th {\n",
       "        vertical-align: top;\n",
       "    }\n",
       "\n",
       "    .dataframe thead th {\n",
       "        text-align: right;\n",
       "    }\n",
       "</style>\n",
       "<table border=\"1\" class=\"dataframe\">\n",
       "  <thead>\n",
       "    <tr style=\"text-align: right;\">\n",
       "      <th></th>\n",
       "      <th>no</th>\n",
       "      <th>season</th>\n",
       "      <th>no_in_season</th>\n",
       "      <th>title</th>\n",
       "      <th>air_date</th>\n",
       "      <th>us_viewers</th>\n",
       "      <th>text</th>\n",
       "    </tr>\n",
       "  </thead>\n",
       "  <tbody>\n",
       "    <tr>\n",
       "      <th>0</th>\n",
       "      <td>1</td>\n",
       "      <td>1</td>\n",
       "      <td>1</td>\n",
       "      <td>\"Yankee White\"</td>\n",
       "      <td>2003-09-23</td>\n",
       "      <td>13.04</td>\n",
       "      <td>While onAir Force One, a Navy commander, Ray T...</td>\n",
       "    </tr>\n",
       "    <tr>\n",
       "      <th>1</th>\n",
       "      <td>2</td>\n",
       "      <td>1</td>\n",
       "      <td>2</td>\n",
       "      <td>\"Hung Out to Dry\"</td>\n",
       "      <td>2003-09-30</td>\n",
       "      <td>12.08</td>\n",
       "      <td>A Marine (Brian Patrick Wade) dies during a ni...</td>\n",
       "    </tr>\n",
       "    <tr>\n",
       "      <th>2</th>\n",
       "      <td>3</td>\n",
       "      <td>1</td>\n",
       "      <td>3</td>\n",
       "      <td>\"Seadog\"</td>\n",
       "      <td>2003-10-07</td>\n",
       "      <td>11.26</td>\n",
       "      <td>When a driver-less boat and several bodies, in...</td>\n",
       "    </tr>\n",
       "    <tr>\n",
       "      <th>3</th>\n",
       "      <td>4</td>\n",
       "      <td>1</td>\n",
       "      <td>4</td>\n",
       "      <td>\"The Immortals\"</td>\n",
       "      <td>2003-10-14</td>\n",
       "      <td>11.70</td>\n",
       "      <td>The discovery of a drowned sailor in dress whi...</td>\n",
       "    </tr>\n",
       "    <tr>\n",
       "      <th>4</th>\n",
       "      <td>5</td>\n",
       "      <td>1</td>\n",
       "      <td>5</td>\n",
       "      <td>\"The Curse\"</td>\n",
       "      <td>2003-10-28</td>\n",
       "      <td>13.50</td>\n",
       "      <td>Gibbs and the team are called in when a mummif...</td>\n",
       "    </tr>\n",
       "  </tbody>\n",
       "</table>\n",
       "</div>"
      ],
      "text/plain": [
       "   no  season  no_in_season              title   air_date  us_viewers  \\\n",
       "0   1       1             1     \"Yankee White\" 2003-09-23       13.04   \n",
       "1   2       1             2  \"Hung Out to Dry\" 2003-09-30       12.08   \n",
       "2   3       1             3           \"Seadog\" 2003-10-07       11.26   \n",
       "3   4       1             4    \"The Immortals\" 2003-10-14       11.70   \n",
       "4   5       1             5        \"The Curse\" 2003-10-28       13.50   \n",
       "\n",
       "                                                text  \n",
       "0  While onAir Force One, a Navy commander, Ray T...  \n",
       "1  A Marine (Brian Patrick Wade) dies during a ni...  \n",
       "2  When a driver-less boat and several bodies, in...  \n",
       "3  The discovery of a drowned sailor in dress whi...  \n",
       "4  Gibbs and the team are called in when a mummif...  "
      ]
     },
     "execution_count": 7,
     "metadata": {},
     "output_type": "execute_result"
    }
   ],
   "source": [
    "# create pandas DataFrame from data\n",
    "df = pd.DataFrame(data, columns=head)\n",
    "df[\"air_date\"] = [pd.Timestamp(d) for d in df[\"air_date\"]]\n",
    "df.head()"
   ]
  },
  {
   "cell_type": "code",
   "execution_count": 8,
   "metadata": {},
   "outputs": [
    {
     "data": {
      "text/plain": [
       "no                       int64\n",
       "season                   int64\n",
       "no_in_season             int64\n",
       "title                   object\n",
       "air_date        datetime64[ns]\n",
       "us_viewers             float64\n",
       "text                    object\n",
       "dtype: object"
      ]
     },
     "execution_count": 8,
     "metadata": {},
     "output_type": "execute_result"
    }
   ],
   "source": [
    "df.dtypes"
   ]
  },
  {
   "cell_type": "code",
   "execution_count": 9,
   "metadata": {},
   "outputs": [],
   "source": [
    "df.to_pickle(\"data.pkl\")"
   ]
  },
  {
   "cell_type": "markdown",
   "metadata": {},
   "source": [
    "# Add text from subtitles"
   ]
  },
  {
   "cell_type": "code",
   "execution_count": 35,
   "metadata": {},
   "outputs": [],
   "source": [
    "# load earlier created data if neaded\n",
    "if \"df\" not in globals(): \n",
    "    df = pd.read_pickle(\"data.pkl\")"
   ]
  },
  {
   "cell_type": "code",
   "execution_count": 36,
   "metadata": {},
   "outputs": [],
   "source": [
    "sub_files = glob.glob(\"../ncis_subs/*/*\")\n",
    "# sort the files based on different file names \n",
    "sorted_sub_files = []\n",
    "for sf in sub_files:\n",
    "    match = re.match(r\".*?([0-9]+)[xEe]([0-9]{2}).*\", sf)\n",
    "    try:\n",
    "        groups = match.groups()\n",
    "        s = int(groups[0])\n",
    "        e = int(groups[1])\n",
    "    except AttributeError:\n",
    "        raise AttributeError(f\"!!! Didnt work on {sf}\")\n",
    "    sorted_sub_files.append((s, e, sf))\n",
    "sorted_sub_files.sort(key=lambda x: (x[0], x[1]))"
   ]
  },
  {
   "cell_type": "code",
   "execution_count": 32,
   "metadata": {},
   "outputs": [],
   "source": [
    "# only take the text and make a list\n",
    "subtitles = []\n",
    "for s, e, sf in sorted_sub_files:\n",
    "    try:\n",
    "        subs = list(parser.parse(sf))\n",
    "    except UnicodeDecodeError:\n",
    "        subs = list(parser.parse(sf, encoding='cp1252'))\n",
    "    \n",
    "    subs = ascii.clean(formatting.clean(subs))\n",
    "    sub_texts = [sub.text for sub in subs]\n",
    "    \n",
    "    text = \"\\n\".join(sub_texts)\n",
    "    subtitles.append(text)"
   ]
  },
  {
   "cell_type": "code",
   "execution_count": 37,
   "metadata": {},
   "outputs": [],
   "source": [
    "# fill subtitles-list with \"\" for missing 17th season\n",
    "diff = len(df) - len(subtitles)\n",
    "for i in range(diff):\n",
    "    subtitles.append(\"\")"
   ]
  },
  {
   "cell_type": "code",
   "execution_count": 40,
   "metadata": {},
   "outputs": [],
   "source": [
    "df[\"subtitles\"] = subtitles"
   ]
  },
  {
   "cell_type": "code",
   "execution_count": 43,
   "metadata": {},
   "outputs": [],
   "source": [
    "df.to_pickle(\"../data_subs.pkl\")"
   ]
  }
 ],
 "metadata": {
  "kernelspec": {
   "display_name": "Python 3",
   "language": "python",
   "name": "python3"
  },
  "language_info": {
   "codemirror_mode": {
    "name": "ipython",
    "version": 3
   },
   "file_extension": ".py",
   "mimetype": "text/x-python",
   "name": "python",
   "nbconvert_exporter": "python",
   "pygments_lexer": "ipython3",
   "version": "3.8.6"
  }
 },
 "nbformat": 4,
 "nbformat_minor": 4
}
